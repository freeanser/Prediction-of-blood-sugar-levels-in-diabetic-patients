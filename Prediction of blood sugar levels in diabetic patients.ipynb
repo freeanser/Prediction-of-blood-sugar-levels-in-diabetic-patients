{
 "cells": [
  {
   "cell_type": "code",
   "execution_count": 10,
   "id": "674cf1bb",
   "metadata": {},
   "outputs": [],
   "source": [
    "# Import necessary libraries\n",
    "\n",
    "import numpy as np\n",
    "import pandas as pd\n",
    "from sklearn.datasets import load_diabetes\n",
    "\n",
    "from sklearn.model_selection import train_test_split\n",
    "from sklearn.ensemble import RandomForestRegressor\n",
    "from sklearn.model_selection import RandomizedSearchCV\n",
    "\n",
    "\n",
    "from sklearn.metrics import mean_squared_error, r2_score, mean_absolute_error\n",
    "\n",
    "from sklearn.linear_model import LinearRegression\n",
    "from sklearn.ensemble import GradientBoostingRegressor\n",
    "\n",
    "import matplotlib.pyplot as plt\n",
    "import seaborn as sns"
   ]
  },
  {
   "cell_type": "code",
   "execution_count": 11,
   "id": "ac5a3a8b",
   "metadata": {},
   "outputs": [],
   "source": [
    "# load and split diabetes dataset\n",
    "\n",
    "# from : https://scikit-learn.org/stable/modules/generated/sklearn.datasets.load_diabetes.html\n",
    "\n",
    "# Load the diabetes dataset from scikit-learn\n",
    "diabetes = load_diabetes()\n",
    "\n",
    "# Create DataFrame for features and Series for target variable\n",
    "X = pd.DataFrame(diabetes.data, columns=diabetes.feature_names)\n",
    "y = pd.Series(diabetes.target, name='target')\n",
    "\n",
    "# Split the dataset into training and testing sets\n",
    "X_train, X_test, y_train, y_test = train_test_split(X, y, test_size=0.2, random_state=None)\n"
   ]
  },
  {
   "cell_type": "code",
   "execution_count": 12,
   "id": "23d36cb3",
   "metadata": {},
   "outputs": [],
   "source": [
    "# 2. Implementation and Experimentation \n",
    "# ○ Implement Random Forest Regressor using Python and scikit-learn, ensuring rigorous experimental design.\n",
    "# ○ Experiment with various hyperparameters, including tree depth, number of estimators, and feature selection methods.\n",
    "# ○ Conduct a thorough analysis of the impact of hyperparameters on model performance through systematic experimentation."
   ]
  },
  {
   "cell_type": "code",
   "execution_count": 13,
   "id": "5cbe1846",
   "metadata": {},
   "outputs": [
    {
     "name": "stdout",
     "output_type": "stream",
     "text": [
      "Fitting 5 folds for each of 8 candidates, totalling 40 fits\n",
      "Best parameters found: {'n_estimators': 100, 'max_features': 'sqrt', 'max_depth': 20}\n"
     ]
    }
   ],
   "source": [
    "# Initialize a Random Forest Regressor\n",
    "rf = RandomForestRegressor()\n",
    "\n",
    "# Define hyperparameter grid for Randomized Search CV\n",
    "param_grid = {\n",
    "    'n_estimators': [50, 100],   # Number of trees in the forest\n",
    "    'max_depth': [10, 20], # Maximum depth of each tree\n",
    "    'max_features': ['sqrt', 'log2'], # Number of features to consider when looking for the best split\n",
    "}\n",
    "\n",
    "# Perform Randomized Search CV to find best hyperparameters\n",
    "random_search = RandomizedSearchCV(estimator=rf, \n",
    "                                   param_distributions=param_grid,\n",
    "                                   n_iter=8, cv=5, \n",
    "                                   verbose=2, random_state=42, \n",
    "                                   n_jobs=-1)\n",
    "\n",
    "random_search.fit(X_train, y_train)\n",
    "\n",
    "# Print the best parameters found by Randomized Search CV\n",
    "print(\"Best parameters found:\", random_search.best_params_)\n",
    "\n",
    "# Assign the best model found to a variable\n",
    "best_model = random_search.best_estimator_"
   ]
  },
  {
   "cell_type": "code",
   "execution_count": 14,
   "id": "b544b28e",
   "metadata": {},
   "outputs": [],
   "source": [
    "# 3. Evaluation and Interpretation\n",
    "# ○ Evaluate the performance of Random Forest Regressor using appropriate\n",
    "# regression evaluation metrics such as Mean Squared Error (MSE), R-squared,\n",
    "# and Mean Absolute Error (MAE)."
   ]
  },
  {
   "cell_type": "code",
   "execution_count": 16,
   "id": "d7de3a93",
   "metadata": {},
   "outputs": [
    {
     "name": "stdout",
     "output_type": "stream",
     "text": [
      "train rsq, val rsq, train rmse, val rmse\n",
      "[0.9222144907685492, 0.45257591518312523, 21.401794368039802, 57.75865017175281]\n"
     ]
    }
   ],
   "source": [
    "def evaluate_performance(model, X_train, y_train, X_test, y_test):\n",
    "    \"\"\"\n",
    "    Evaluate the performance of a regression model on training and testing sets.\n",
    "    \n",
    "    Parameters:\n",
    "        model: Regression model to evaluate.\n",
    "        X_train: Features of the training set.\n",
    "        y_train: Target variable of the training set.\n",
    "        X_test: Features of the testing set.\n",
    "        y_test: Target variable of the testing set.\n",
    "        \n",
    "    Returns:\n",
    "        result_str: String indicating the performance metrics.\n",
    "        result_list: List containing the performance metrics.\n",
    "    \"\"\"\n",
    "    # Calculate R-squared for training and testing sets\n",
    "    train_rsq = model.score(X_train, y_train)\n",
    "    test_rsq = model.score(X_test, y_test)\n",
    "    \n",
    "    # Calculate root mean squared error (RMSE) for training and testing sets\n",
    "    train_rmse = mean_squared_error(y_train, model.predict(X_train), squared=False)\n",
    "    test_rmse = mean_squared_error(y_test, model.predict(X_test), squared=False)\n",
    "    \n",
    "    # Format and return performance metrics\n",
    "    return \"train rsq, val rsq, train rmse, val rmse\", [train_rsq, test_rsq, train_rmse, test_rmse]\n",
    "\n",
    "# Evaluate the performance of the random forest regressor\n",
    "result_str, result_list = evaluate_performance(best_model, X_train, y_train, X_test, y_test)\n",
    "\n",
    "# Print the performance metrics\n",
    "print(result_str)\n",
    "print(result_list)\n"
   ]
  },
  {
   "cell_type": "code",
   "execution_count": 17,
   "id": "831d22d5",
   "metadata": {},
   "outputs": [],
   "source": [
    "# 4. Comparative Analysis\n",
    "# ○ Conduct a comparative analysis of Random Forest Regressor with other regression models, such as Linear Regression, Gradient Boosting Regressor.\n",
    "# ○ Critically evaluate the advantages and limitations of each model, considering factors like interpretability, computational complexity, and scalability."
   ]
  },
  {
   "cell_type": "code",
   "execution_count": 18,
   "id": "cb91e2e9",
   "metadata": {},
   "outputs": [
    {
     "name": "stdout",
     "output_type": "stream",
     "text": [
      "RandomForestRegressor Performance: ('train rsq, val rsq, train rmse, val rmse', [0.9213917136381568, 0.4530838332743059, 21.514685491187237, 57.73184876476547])\n",
      "LinearRegression Performance: ('train rsq, val rsq, train rmse, val rmse', [0.5143626606840677, 0.5174841876451617, 53.47574859664936, 54.22641078328426])\n",
      "GradientBoostingRegressor Performance: ('train rsq, val rsq, train rmse, val rmse', [0.8278727864595579, 0.4024247836444732, 31.836521238474205, 60.34640086710071])\n"
     ]
    }
   ],
   "source": [
    "# Initialize Linear Regression and Gradient Boosting Regressor models\n",
    "linear_regressor = LinearRegression()\n",
    "gb_regressor = GradientBoostingRegressor()\n",
    "\n",
    "# Train and evaluate the performance of each model\n",
    "for model in [best_model, linear_regressor, gb_regressor]:\n",
    "    # Fit the model to the training data\n",
    "    model.fit(X_train, y_train)\n",
    "    \n",
    "    # Evaluate the performance of the model\n",
    "    result = evaluate_performance(model, X_train, y_train, X_test, y_test)\n",
    "    \n",
    "    # Print the model performance\n",
    "    print(f\"{model.__class__.__name__} Performance: {result}\")\n"
   ]
  },
  {
   "cell_type": "code",
   "execution_count": null,
   "id": "9c0d609e",
   "metadata": {},
   "outputs": [],
   "source": [
    "# 5. Feature Importance and Interpretability\n",
    "# ○ Perform feature importance analysis to identify the most influential features in the\n",
    "# Random Forest Regressor model.\n",
    "# ○ Critically assess the interpretability of the model and the reliability of feature\n",
    "# importance scores in guiding decision-making processes."
   ]
  },
  {
   "cell_type": "code",
   "execution_count": 20,
   "id": "de4e08ac",
   "metadata": {},
   "outputs": [
    {
     "data": {
      "image/png": "[encoded data removed]",
      "text/plain": [
       "<Figure size 500x300 with 1 Axes>"
      ]
     },
     "metadata": {},
     "output_type": "display_data"
    }
   ],
   "source": [
    "# Create a DataFrame to store feature importances from the random forest regressor\n",
    "feat_imps = pd.DataFrame(best_model.feature_importances_, index=X.columns,\n",
    "                         columns=['Importance Score']).sort_values('Importance Score', ascending=False)\n",
    "\n",
    "# Reset index and rename columns\n",
    "feat_imps = feat_imps.reset_index()\n",
    "feat_imps.columns = [\"Feature\", \"Importance Score\"]\n",
    "\n",
    "# Plot a bar chart to visualize feature importances\n",
    "plt.figure(figsize=(5, 3))\n",
    "sns.barplot(x=\"Importance Score\", y=\"Feature\", data=feat_imps, orient=\"h\")\n",
    "plt.title(\"Feature Importances\")\n",
    "plt.xlabel(\"Importance Score\")\n",
    "plt.ylabel(\"Feature\")\n",
    "plt.tight_layout()\n",
    "plt.show()\n"
   ]
  },
  {
   "cell_type": "code",
   "execution_count": null,
   "id": "3327ce0f",
   "metadata": {},
   "outputs": [],
   "source": []
  }
 ],
 "metadata": {
  "kernelspec": {
   "display_name": "Python 3 (ipykernel)",
   "language": "python",
   "name": "python3"
  },
  "language_info": {
   "codemirror_mode": {
    "name": "ipython",
    "version": 3
   },
   "file_extension": ".py",
   "mimetype": "text/x-python",
   "name": "python",
   "nbconvert_exporter": "python",
   "pygments_lexer": "ipython3",
   "version": "3.11.5"
  }
 },
 "nbformat": 4,
 "nbformat_minor": 5
}
