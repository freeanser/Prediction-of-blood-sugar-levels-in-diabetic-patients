{
 "cells": [
  {
   "cell_type": "code",
   "execution_count": 5,
   "id": "674cf1bb",
   "metadata": {},
   "outputs": [],
   "source": [
    "# Import necessary libraries\n",
    "\n",
    "import numpy as np\n",
    "import pandas as pd\n",
    "from sklearn.datasets import load_diabetes\n",
    "\n",
    "from sklearn.model_selection import train_test_split\n",
    "from sklearn.ensemble import RandomForestRegressor\n",
    "from sklearn.model_selection import RandomizedSearchCV\n",
    "\n",
    "\n",
    "from sklearn.metrics import mean_squared_error, r2_score, mean_absolute_error\n",
    "\n",
    "from sklearn.linear_model import LinearRegression\n",
    "from sklearn.ensemble import GradientBoostingRegressor\n",
    "\n",
    "import matplotlib.pyplot as plt\n",
    "import seaborn as sns"
   ]
  },
  {
   "cell_type": "code",
   "execution_count": 6,
   "id": "ac5a3a8b",
   "metadata": {},
   "outputs": [],
   "source": [
    "# load and split diabetes dataset\n",
    "\n",
    "# from : https://scikit-learn.org/stable/modules/generated/sklearn.datasets.load_diabetes.html\n",
    "\n",
    "# Load the diabetes dataset from scikit-learn\n",
    "diabetes = load_diabetes()\n",
    "\n",
    "# Create DataFrame for features and Series for target variable\n",
    "X = pd.DataFrame(diabetes.data, columns=diabetes.feature_names)\n",
    "y = pd.Series(diabetes.target, name='target')\n",
    "\n",
    "# Split the dataset into training and testing sets\n",
    "X_train, X_test, y_train, y_test = train_test_split(X, y, test_size=0.2, random_state=None)\n"
   ]
  },
  {
   "cell_type": "code",
   "execution_count": 7,
   "id": "0dcce640",
   "metadata": {},
   "outputs": [
    {
     "name": "stdout",
     "output_type": "stream",
     "text": [
      "Fitting 5 folds for each of 8 candidates, totalling 40 fits\n",
      "Best parameters found: {'n_estimators': 100, 'max_features': 'sqrt', 'max_depth': 20}\n"
     ]
    }
   ],
   "source": [
    "# Initialize a Random Forest Regressor\n",
    "rf = RandomForestRegressor()\n",
    "\n",
    "# Define hyperparameter grid for Randomized Search CV\n",
    "param_grid = {\n",
    "    'n_estimators': [50, 100],   # Number of trees in the forest\n",
    "    'max_depth': [10, 20], # Maximum depth of each tree\n",
    "    'max_features': ['sqrt', 'log2'], # Number of features to consider when looking for the best split\n",
    "}\n",
    "\n",
    "# Perform Randomized Search CV to find best hyperparameters\n",
    "random_search = RandomizedSearchCV(estimator=rf, \n",
    "                                   param_distributions=param_grid,\n",
    "                                   n_iter=8, cv=5, \n",
    "                                   verbose=2, random_state=42, \n",
    "                                   n_jobs=-1)\n",
    "\n",
    "random_search.fit(X_train, y_train)\n",
    "\n",
    "# Print the best parameters found by Randomized Search CV\n",
    "print(\"Best parameters found:\", random_search.best_params_)\n",
    "\n",
    "# Assign the best model found to a variable\n",
    "best_model = random_search.best_estimator_"
   ]
  },
  {
   "cell_type": "code",
   "execution_count": 8,
   "id": "c566dffd",
   "metadata": {},
   "outputs": [
    {
     "name": "stdout",
     "output_type": "stream",
     "text": [
      "train rsq, val rsq, train rmse, val rmse\n",
      "[0.9242278505516258, 0.48155455659613755, 20.924778471344865, 57.224427245380326]\n"
     ]
    }
   ],
   "source": [
    "def evaluate_performance(model, X_train, y_train, X_test, y_test):\n",
    "    \"\"\"\n",
    "    Evaluate the performance of a regression model on training and testing sets.\n",
    "    \n",
    "    Parameters:\n",
    "        model: Regression model to evaluate.\n",
    "        X_train: Features of the training set.\n",
    "        y_train: Target variable of the training set.\n",
    "        X_test: Features of the testing set.\n",
    "        y_test: Target variable of the testing set.\n",
    "        \n",
    "    Returns:\n",
    "        result_str: String indicating the performance metrics.\n",
    "        result_list: List containing the performance metrics.\n",
    "    \"\"\"\n",
    "    # Calculate R-squared for training and testing sets\n",
    "    train_rsq = model.score(X_train, y_train)\n",
    "    test_rsq = model.score(X_test, y_test)\n",
    "    \n",
    "    # Calculate root mean squared error (RMSE) for training and testing sets\n",
    "    train_rmse = mean_squared_error(y_train, model.predict(X_train), squared=False)\n",
    "    test_rmse = mean_squared_error(y_test, model.predict(X_test), squared=False)\n",
    "    \n",
    "    # Format and return performance metrics\n",
    "    return \"train rsq, val rsq, train rmse, val rmse\", [train_rsq, test_rsq, train_rmse, test_rmse]\n",
    "\n",
    "# Evaluate the performance of the random forest regressor\n",
    "result_str, result_list = evaluate_performance(best_model, X_train, y_train, X_test, y_test)\n",
    "\n",
    "# Print the performance metrics\n",
    "print(result_str)\n",
    "print(result_list)\n"
   ]
  },
  {
   "cell_type": "code",
   "execution_count": null,
   "id": "3eed676f",
   "metadata": {},
   "outputs": [],
   "source": []
  }
 ],
 "metadata": {
  "kernelspec": {
   "display_name": "Python 3 (ipykernel)",
   "language": "python",
   "name": "python3"
  },
  "language_info": {
   "codemirror_mode": {
    "name": "ipython",
    "version": 3
   },
   "file_extension": ".py",
   "mimetype": "text/x-python",
   "name": "python",
   "nbconvert_exporter": "python",
   "pygments_lexer": "ipython3",
   "version": "3.11.5"
  }
 },
 "nbformat": 4,
 "nbformat_minor": 5
}
