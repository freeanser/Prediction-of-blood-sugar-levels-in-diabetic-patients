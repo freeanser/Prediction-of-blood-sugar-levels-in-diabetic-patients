{
 "cells": [
  {
   "cell_type": "code",
   "execution_count": 93,
   "id": "674cf1bb",
   "metadata": {},
   "outputs": [],
   "source": [
    "# Import necessary libraries\n",
    "import numpy as np\n",
    "import pandas as pd\n",
    "from sklearn.datasets import load_diabetes\n",
    "\n",
    "from sklearn.model_selection import train_test_split\n",
    "from sklearn.ensemble import RandomForestRegressor\n",
    "from sklearn.model_selection import RandomizedSearchCV\n",
    "\n",
    "from sklearn.metrics import mean_squared_error, r2_score, mean_absolute_error\n",
    "\n",
    "from sklearn.linear_model import LinearRegression\n",
    "from sklearn.ensemble import GradientBoostingRegressor\n",
    "\n",
    "import matplotlib.pyplot as plt\n",
    "import seaborn as sns"
   ]
  },
  {
   "cell_type": "code",
   "execution_count": 94,
   "id": "ac5a3a8b",
   "metadata": {},
   "outputs": [],
   "source": [
    "# load and split diabetes dataset\n",
    "\n",
    "# from : https://scikit-learn.org/stable/modules/generated/sklearn.datasets.load_diabetes.html\n",
    "\n",
    "# Load the diabetes dataset from scikit-learn\n",
    "diabetes = load_diabetes()\n",
    "\n",
    "# Create DataFrame for features and Series for target variable\n",
    "X = pd.DataFrame(diabetes.data, columns=diabetes.feature_names)\n",
    "y = pd.Series(diabetes.target, name='target')\n",
    "\n",
    "# Split the dataset into training and testing sets\n",
    "X_train, X_test, y_train, y_test = train_test_split(X, y, test_size=0.2, random_state=None)\n"
   ]
  },
  {
   "cell_type": "code",
   "execution_count": 95,
   "id": "e9748d8e",
   "metadata": {},
   "outputs": [],
   "source": [
    "# 2. Implementation and Experimentation \n",
    "# ○ Implement Random Forest Regressor using Python and scikit-learn, ensuring rigorous experimental design.\n",
    "# ○ Experiment with various hyperparameters, including tree depth, number of estimators, and feature selection methods.\n",
    "# ○ Conduct a thorough analysis of the impact of hyperparameters on model performance through systematic experimentation."
   ]
  },
  {
   "cell_type": "code",
   "execution_count": 96,
   "id": "5181799f",
   "metadata": {},
   "outputs": [
    {
     "name": "stdout",
     "output_type": "stream",
     "text": [
      "Fitting 5 folds for each of 8 candidates, totalling 40 fits\n",
      "Best parameters found: {'n_estimators': 100, 'max_features': 'sqrt', 'max_depth': 20}\n"
     ]
    }
   ],
   "source": [
    "# Add Randomized Search for hyperparameter tuning in Random Forest Regressor\n",
    "\n",
    "# Initialize a Random Forest Regressor\n",
    "rf = RandomForestRegressor()\n",
    "\n",
    "# Define hyperparameter grid for Randomized Search CV\n",
    "param_grid = {\n",
    "    'n_estimators': [50, 100],   # Number of trees in the forest\n",
    "    'max_depth': [10, 20], # Maximum depth of each tree\n",
    "    'max_features': ['sqrt', 'log2'], # Number of features to consider when looking for the best split\n",
    "}\n",
    "\n",
    "# Perform Randomized Search CV to find best hyperparameters\n",
    "random_search = RandomizedSearchCV(estimator=rf, \n",
    "                                   param_distributions=param_grid,\n",
    "                                   n_iter=8, cv=5, \n",
    "                                   verbose=2, random_state=42, \n",
    "                                   n_jobs=-1)\n",
    "\n",
    "random_search.fit(X_train, y_train)\n",
    "\n",
    "# Print the best parameters found by Randomized Search CV\n",
    "print(\"Best parameters found:\", random_search.best_params_)\n",
    "\n",
    "# Assign the best model found to a variable\n",
    "best_model = random_search.best_estimator_"
   ]
  },
  {
   "cell_type": "code",
   "execution_count": 97,
   "id": "586f81cd",
   "metadata": {},
   "outputs": [],
   "source": [
    "# 3. Evaluation and Interpretation\n",
    "# ○ Evaluate the performance of Random Forest Regressor using appropriate\n",
    "# regression evaluation metrics such as Mean Squared Error (MSE), R-squared,\n",
    "# and Mean Absolute Error (MAE)."
   ]
  },
  {
   "cell_type": "code",
   "execution_count": 98,
   "id": "ca444d60",
   "metadata": {},
   "outputs": [
    {
     "name": "stdout",
     "output_type": "stream",
     "text": [
      "train rsq, val rsq, train rmse, val rmse, train mae, val mae\n",
      "[0.924754194189108, 0.40128374748263895, 21.35523692036889, 56.235211289405186, 17.09016052880075, 47.480898876404495]\n"
     ]
    }
   ],
   "source": [
    "# Add function to evaluate regression model performance on training and testing sets\n",
    "\n",
    "def evaluate_performance(model, X_train, y_train, X_test, y_test):\n",
    "    \"\"\"\n",
    "    Evaluate the performance of a model on training and testing sets.\n",
    "\n",
    "    Parameters:\n",
    "    model: Model to evaluate.\n",
    "    X_train: Features of the training set.\n",
    "    y_train: Target variable of the training set.\n",
    "    X_test: Features of the testing set.\n",
    "    y_test: Target variable of the testing set.\n",
    "\n",
    "    Returns:\n",
    "    result_str: String indicating the performance metrics.\n",
    "    result_list: List containing the performance metrics.\n",
    "    \"\"\"\n",
    "    # Calculate R-squared for training and testing sets\n",
    "    train_rsq = model.score(X_train, y_train)\n",
    "    test_rsq = model.score(X_test, y_test)\n",
    "\n",
    "    # Calculate RMSE for training and testing sets\n",
    "    train_rmse = mean_squared_error(y_train, model.predict(X_train), squared=False)\n",
    "    test_rmse = mean_squared_error(y_test, model.predict(X_test), squared=False)\n",
    "\n",
    "    # Calculate MAE for training and testing sets\n",
    "    train_mae = mean_absolute_error(y_train, model.predict(X_train))\n",
    "    test_mae = mean_absolute_error(y_test, model.predict(X_test))\n",
    "\n",
    "    # Return performance metrics\n",
    "    return \"train rsq, val rsq, train rmse, val rmse, train mae, val mae\", [train_rsq, test_rsq, train_rmse, test_rmse, train_mae, test_mae]\n",
    "\n",
    "\n",
    "# Evaluate the performance of the random forest regressor\n",
    "result_str, result_list = evaluate_performance(best_model, X_train, y_train, X_test, y_test)\n",
    "\n",
    "# Print the performance metrics\n",
    "print(result_str)\n",
    "print(result_list)\n"
   ]
  },
  {
   "cell_type": "code",
   "execution_count": 99,
   "id": "5ea08b56",
   "metadata": {},
   "outputs": [
    {
     "name": "stdout",
     "output_type": "stream",
     "text": [
      "Hyperparameters: {'n_estimators': 50, 'max_features': 'sqrt', 'max_depth': 10}\n",
      "Mean Test Score: 0.4750179768080174\n",
      "Hyperparameters: {'n_estimators': 100, 'max_features': 'sqrt', 'max_depth': 10}\n",
      "Mean Test Score: 0.4725643175279882\n",
      "Hyperparameters: {'n_estimators': 50, 'max_features': 'log2', 'max_depth': 10}\n",
      "Mean Test Score: 0.4599785430632967\n",
      "Hyperparameters: {'n_estimators': 100, 'max_features': 'log2', 'max_depth': 10}\n",
      "Mean Test Score: 0.46026478365199275\n",
      "Hyperparameters: {'n_estimators': 50, 'max_features': 'sqrt', 'max_depth': 20}\n",
      "Mean Test Score: 0.4577466732073052\n",
      "Hyperparameters: {'n_estimators': 100, 'max_features': 'sqrt', 'max_depth': 20}\n",
      "Mean Test Score: 0.47512093724407195\n",
      "Hyperparameters: {'n_estimators': 50, 'max_features': 'log2', 'max_depth': 20}\n",
      "Mean Test Score: 0.4691068234908721\n",
      "Hyperparameters: {'n_estimators': 100, 'max_features': 'log2', 'max_depth': 20}\n",
      "Mean Test Score: 0.4742922171784705\n"
     ]
    }
   ],
   "source": [
    "# Compare performance metrics for different hyperparameter settings\n",
    "for params, score in zip(random_search.cv_results_['params'], random_search.cv_results_['mean_test_score']):\n",
    "    print(\"Hyperparameters:\", params)\n",
    "    print(\"Mean Test Score:\", score)\n"
   ]
  },
  {
   "cell_type": "code",
   "execution_count": 100,
   "id": "3a8c3dc4",
   "metadata": {},
   "outputs": [],
   "source": [
    "# 4. Comparative Analysis\n",
    "# ○ Conduct a comparative analysis of Random Forest Regressor with other regression models, such as Linear Regression, Gradient Boosting Regressor.\n",
    "# ○ Critically evaluate the advantages and limitations of each model, considering factors like interpretability, computational complexity, and scalability."
   ]
  },
  {
   "cell_type": "code",
   "execution_count": 101,
   "id": "70a72ce6",
   "metadata": {},
   "outputs": [
    {
     "name": "stdout",
     "output_type": "stream",
     "text": [
      "RandomForestRegressor Performance: ('train rsq, val rsq, train rmse, val rmse, train mae, val mae', [0.92252752508636, 0.3653811992793572, 21.66890473532768, 57.89676185800849, 17.568693106704437, 49.85564794007491])\n",
      "LinearRegression Performance: ('train rsq, val rsq, train rmse, val rmse, train mae, val mae', [0.5244633045327202, 0.4585395377340781, 53.68528500063679, 53.47874196215496, 43.42503462476486, 44.1856929272019])\n",
      "GradientBoostingRegressor Performance: ('train rsq, val rsq, train rmse, val rmse, train mae, val mae', [0.8484354654474259, 0.31954697940690246, 30.3083323082064, 59.951061977659165, 24.10242476149975, 47.1268388035069])\n"
     ]
    }
   ],
   "source": [
    "# Add model training and evaluation loop\n",
    "\n",
    "# Initialize Linear Regression and Gradient Boosting Regressor models\n",
    "linear_regressor = LinearRegression()\n",
    "gb_regressor = GradientBoostingRegressor()\n",
    "\n",
    "# Train and evaluate the performance of each model\n",
    "for model in [best_model, linear_regressor, gb_regressor]:\n",
    "    # Fit the model to the training data\n",
    "    model.fit(X_train, y_train)\n",
    "    \n",
    "    # Evaluate the performance of the model\n",
    "    result = evaluate_performance(model, X_train, y_train, X_test, y_test)\n",
    "    \n",
    "    # Print the model performance\n",
    "    print(f\"{model.__class__.__name__} Performance: {result}\")\n"
   ]
  },
  {
   "cell_type": "code",
   "execution_count": 102,
   "id": "4467e84d",
   "metadata": {},
   "outputs": [],
   "source": [
    "# 5. Feature Importance and Interpretability\n",
    "# ○ Perform feature importance analysis to identify the most influential features in the\n",
    "# Random Forest Regressor model.\n",
    "# ○ Critically assess the interpretability of the model and the reliability of feature\n",
    "# importance scores in guiding decision-making processes."
   ]
  },
  {
   "cell_type": "code",
   "execution_count": 103,
   "id": "bb17611a",
   "metadata": {},
   "outputs": [
    {
     "data": {
      "image/png": "[encoded data removed]",
      "text/plain": [
       "<Figure size 500x300 with 1 Axes>"
      ]
     },
     "metadata": {},
     "output_type": "display_data"
    }
   ],
   "source": [
    "# Add code to visualize feature importances\n",
    "\n",
    "# Create a DataFrame to store feature importances from the random forest regressor\n",
    "feat_imps = pd.DataFrame(best_model.feature_importances_, index=X.columns,\n",
    "                         columns=['Importance Score']).sort_values('Importance Score', ascending=False)\n",
    "\n",
    "# Reset index and rename columns\n",
    "feat_imps = feat_imps.reset_index()\n",
    "feat_imps.columns = [\"Feature\", \"Importance Score\"]\n",
    "\n",
    "# Plot a bar chart to visualize feature importances\n",
    "plt.figure(figsize=(5, 3))\n",
    "sns.barplot(x=\"Importance Score\", y=\"Feature\", data=feat_imps, orient=\"h\")\n",
    "plt.title(\"Feature Importances\")\n",
    "plt.xlabel(\"Importance Score\")\n",
    "plt.ylabel(\"Feature\")\n",
    "plt.tight_layout()\n",
    "plt.show()\n"
   ]
  },
  {
   "cell_type": "code",
   "execution_count": 104,
   "id": "b2facd2e",
   "metadata": {},
   "outputs": [
    {
     "name": "stdout",
     "output_type": "stream",
     "text": [
      "[CV] END ...max_depth=10, max_features=sqrt, n_estimators=50; total time=   0.1s\n",
      "[CV] END ...max_depth=10, max_features=log2, n_estimators=50; total time=   0.1s\n",
      "[CV] END ..max_depth=10, max_features=log2, n_estimators=100; total time=   0.2s\n",
      "[CV] END ...max_depth=20, max_features=sqrt, n_estimators=50; total time=   0.1s\n",
      "[CV] END ..max_depth=20, max_features=sqrt, n_estimators=100; total time=   0.2s\n",
      "[CV] END ...max_depth=10, max_features=sqrt, n_estimators=50; total time=   0.1s\n",
      "[CV] END ...max_depth=10, max_features=log2, n_estimators=50; total time=   0.2s\n",
      "[CV] END ..max_depth=10, max_features=log2, n_estimators=100; total time=   0.2s\n",
      "[CV] END ...max_depth=20, max_features=log2, n_estimators=50; total time=   0.1s\n",
      "[CV] END ...max_depth=20, max_features=log2, n_estimators=50; total time=   0.1s\n",
      "[CV] END ..max_depth=10, max_features=sqrt, n_estimators=100; total time=   0.3s\n",
      "[CV] END ...max_depth=10, max_features=log2, n_estimators=50; total time=   0.1s\n",
      "[CV] END ..max_depth=10, max_features=log2, n_estimators=100; total time=   0.2s\n",
      "[CV] END ...max_depth=20, max_features=log2, n_estimators=50; total time=   0.1s\n",
      "[CV] END ...max_depth=20, max_features=log2, n_estimators=50; total time=   0.1s\n",
      "[CV] END ..max_depth=10, max_features=sqrt, n_estimators=100; total time=   0.3s\n",
      "[CV] END ..max_depth=10, max_features=log2, n_estimators=100; total time=   0.2s\n",
      "[CV] END ...max_depth=20, max_features=sqrt, n_estimators=50; total time=   0.1s\n",
      "[CV] END ...max_depth=20, max_features=log2, n_estimators=50; total time=   0.1s\n",
      "[CV] END ..max_depth=20, max_features=log2, n_estimators=100; total time=   0.2s\n",
      "[CV] END ..max_depth=10, max_features=sqrt, n_estimators=100; total time=   0.3s\n",
      "[CV] END ...max_depth=10, max_features=log2, n_estimators=50; total time=   0.2s\n",
      "[CV] END ...max_depth=20, max_features=sqrt, n_estimators=50; total time=   0.1s\n",
      "[CV] END ..max_depth=20, max_features=sqrt, n_estimators=100; total time=   0.2s\n",
      "[CV] END ..max_depth=20, max_features=log2, n_estimators=100; total time=   0.2s\n",
      "[CV] END ...max_depth=10, max_features=sqrt, n_estimators=50; total time=   0.1s\n",
      "[CV] END ..max_depth=10, max_features=sqrt, n_estimators=100; total time=   0.3s\n",
      "[CV] END ...max_depth=20, max_features=sqrt, n_estimators=50; total time=   0.1s\n",
      "[CV] END ..max_depth=20, max_features=sqrt, n_estimators=100; total time=   0.2s\n",
      "[CV] END ..max_depth=20, max_features=log2, n_estimators=100; total time=   0.2s\n",
      "[CV] END ...max_depth=10, max_features=sqrt, n_estimators=50; total time=   0.1s\n",
      "[CV] END ...max_depth=10, max_features=log2, n_estimators=50; total time=   0.1s\n",
      "[CV] END ..max_depth=10, max_features=log2, n_estimators=100; total time=   0.2s\n",
      "[CV] END ..max_depth=20, max_features=sqrt, n_estimators=100; total time=   0.2s\n",
      "[CV] END ..max_depth=20, max_features=log2, n_estimators=100; total time=   0.2s\n",
      "[CV] END ...max_depth=10, max_features=sqrt, n_estimators=50; total time=   0.2s\n",
      "[CV] END ..max_depth=10, max_features=sqrt, n_estimators=100; total time=   0.3s\n",
      "[CV] END ...max_depth=20, max_features=sqrt, n_estimators=50; total time=   0.1s\n",
      "[CV] END ..max_depth=20, max_features=sqrt, n_estimators=100; total time=   0.2s\n",
      "[CV] END ..max_depth=20, max_features=log2, n_estimators=100; total time=   0.2s\n"
     ]
    }
   ],
   "source": []
  },
  {
   "cell_type": "code",
   "execution_count": null,
   "id": "1e815691",
   "metadata": {
    "scrolled": true
   },
   "outputs": [],
   "source": []
  }
 ],
 "metadata": {
  "kernelspec": {
   "display_name": "Python 3 (ipykernel)",
   "language": "python",
   "name": "python3"
  },
  "language_info": {
   "codemirror_mode": {
    "name": "ipython",
    "version": 3
   },
   "file_extension": ".py",
   "mimetype": "text/x-python",
   "name": "python",
   "nbconvert_exporter": "python",
   "pygments_lexer": "ipython3",
   "version": "3.11.5"
  }
 },
 "nbformat": 4,
 "nbformat_minor": 5
}
