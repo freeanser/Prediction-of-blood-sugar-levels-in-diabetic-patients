{
 "cells": [
  {
   "cell_type": "code",
   "execution_count": 1,
   "id": "674cf1bb",
   "metadata": {},
   "outputs": [],
   "source": [
    "# Import necessary libraries\n",
    "\n",
    "import numpy as np\n",
    "import pandas as pd\n",
    "from sklearn.datasets import load_diabetes\n",
    "\n",
    "from sklearn.model_selection import train_test_split\n",
    "from sklearn.ensemble import RandomForestRegressor\n",
    "from sklearn.model_selection import RandomizedSearchCV\n",
    "\n",
    "\n",
    "from sklearn.metrics import mean_squared_error, r2_score, mean_absolute_error\n",
    "\n",
    "from sklearn.linear_model import LinearRegression\n",
    "from sklearn.ensemble import GradientBoostingRegressor\n",
    "\n",
    "import matplotlib.pyplot as plt\n",
    "import seaborn as sns"
   ]
  },
  {
   "cell_type": "code",
   "execution_count": null,
   "id": "ac5a3a8b",
   "metadata": {},
   "outputs": [],
   "source": [
    "# load and split diabetes dataset\n",
    "\n",
    "# from : https://scikit-learn.org/stable/modules/generated/sklearn.datasets.load_diabetes.html\n",
    "\n",
    "# Load the diabetes dataset from scikit-learn\n",
    "diabetes = load_diabetes()\n",
    "\n",
    "# Create DataFrame for features and Series for target variable\n",
    "X = pd.DataFrame(diabetes.data, columns=diabetes.feature_names)\n",
    "y = pd.Series(diabetes.target, name='target')\n",
    "\n",
    "# Split the dataset into training and testing sets\n",
    "X_train, X_test, y_train, y_test = train_test_split(X, y, test_size=0.2, random_state=None)\n"
   ]
  },
  {
   "cell_type": "code",
   "execution_count": null,
   "id": "a2ba3498",
   "metadata": {},
   "outputs": [],
   "source": [
    "# Initialize a Random Forest Regressor\n",
    "rf = RandomForestRegressor()\n",
    "\n",
    "# Define hyperparameter grid for Randomized Search CV\n",
    "param_grid = {\n",
    "    'n_estimators': [50, 100],   # Number of trees in the forest\n",
    "    'max_depth': [10, 20], # Maximum depth of each tree\n",
    "    'max_features': ['sqrt', 'log2'], # Number of features to consider when looking for the best split\n",
    "}\n",
    "\n",
    "# Perform Randomized Search CV to find best hyperparameters\n",
    "random_search = RandomizedSearchCV(estimator=rf, \n",
    "                                   param_distributions=param_grid,\n",
    "                                   n_iter=8, cv=5, \n",
    "                                   verbose=2, random_state=42, \n",
    "                                   n_jobs=-1)\n",
    "\n",
    "random_search.fit(X_train, y_train)\n",
    "\n",
    "# Print the best parameters found by Randomized Search CV\n",
    "print(\"Best parameters found:\", random_search.best_params_)\n",
    "\n",
    "# Assign the best model found to a variable\n",
    "best_model = random_search.best_estimator_"
   ]
  }
 ],
 "metadata": {
  "kernelspec": {
   "display_name": "Python 3 (ipykernel)",
   "language": "python",
   "name": "python3"
  },
  "language_info": {
   "codemirror_mode": {
    "name": "ipython",
    "version": 3
   },
   "file_extension": ".py",
   "mimetype": "text/x-python",
   "name": "python",
   "nbconvert_exporter": "python",
   "pygments_lexer": "ipython3",
   "version": "3.11.5"
  }
 },
 "nbformat": 4,
 "nbformat_minor": 5
}
